{
 "cells": [
  {
   "cell_type": "code",
   "execution_count": 1,
   "id": "minus-concentrate",
   "metadata": {},
   "outputs": [
    {
     "name": "stderr",
     "output_type": "stream",
     "text": [
      "/Users/george/Library/Caches/pypoetry/virtualenvs/humaine-swarm-H_nw7hre-py3.11/lib/python3.11/site-packages/kfp/client/client.py:159: FutureWarning: This client only works with Kubeflow Pipeline v2.0.0-beta.2 and later versions.\n",
      "  warnings.warn(\n"
     ]
    },
    {
     "name": "stdout",
     "output_type": "stream",
     "text": [
      "MTczNjkzMjIwMHxOd3dBTkUxS1VrOVVORlphTlRaVFExSTFNek5FV2pOQlVGbFFXa3BCU1UxSlNFOUVUVVpEV2xwUVRWRlFRMWRUUnpkVVFVZEtOa0U9fHlCnUB1nugCm_BqTO4FHsj1OHq621E_F0-NHk-PIFv2\n",
      "{'next_page_token': 'eyJTb3J0QnlGaWVsZE5hbWUiOiJDcmVhdGVkQXRJblNlYyIsIlNvcnRCeUZpZWxkVmFsdWUiOjE3MzIyNzIwMTMsIlNvcnRCeUZpZWxkUHJlZml4IjoicGlwZWxpbmVzLiIsIktleUZpZWxkTmFtZSI6IlVVSUQiLCJLZXlGaWVsZFZhbHVlIjoiZWFiZDMwYTItZGMzMi00NGNhLWI1ZGYtMjViMjNjZjRkNzZhIiwiS2V5RmllbGRQcmVmaXgiOiJwaXBlbGluZXMuIiwiSXNEZXNjIjpmYWxzZSwiTW9kZWxOYW1lIjoicGlwZWxpbmVzIiwiRmlsdGVyIjpudWxsfQ==',\n",
      " 'pipelines': [{'created_at': datetime.datetime(2024, 2, 20, 21, 26, 40, tzinfo=tzutc()),\n",
      "                'description': '[source '\n",
      "                               'code](https://github.com/kubeflow/pipelines/tree/63ca91850a9f42a357f3417110a3011ddbf43290/samples/tutorials/Data%20passing%20in%20python%20components) '\n",
      "                               'Shows how to pass data between python '\n",
      "                               'components.',\n",
      "                'display_name': '[Tutorial] Data passing in python components',\n",
      "                'error': None,\n",
      "                'namespace': None,\n",
      "                'pipeline_id': 'c5013489-db5f-45d2-910f-303385535d1c'},\n",
      "               {'created_at': datetime.datetime(2024, 2, 20, 21, 26, 41, tzinfo=tzutc()),\n",
      "                'description': '[source '\n",
      "                               'code](https://github.com/kubeflow/pipelines/tree/63ca91850a9f42a357f3417110a3011ddbf43290/samples/tutorials/DSL%20-%20Control%20structures) '\n",
      "                               'Shows how to use conditional execution and '\n",
      "                               'exit handlers. This pipeline will randomly '\n",
      "                               'fail to demonstrate that the exit handler gets '\n",
      "                               'executed even in case of failure.',\n",
      "                'display_name': '[Tutorial] DSL - Control structures',\n",
      "                'error': None,\n",
      "                'namespace': None,\n",
      "                'pipeline_id': '5fef8752-e948-4edb-9076-0b1f98c6ee98'},\n",
      "               {'created_at': datetime.datetime(2024, 8, 26, 13, 43, 47, tzinfo=tzutc()),\n",
      "                'description': None,\n",
      "                'display_name': 'Server',\n",
      "                'error': None,\n",
      "                'namespace': None,\n",
      "                'pipeline_id': '7f5215c8-d15c-434c-96ab-15d132baff34'},\n",
      "               {'created_at': datetime.datetime(2024, 11, 21, 11, 1, 35, tzinfo=tzutc()),\n",
      "                'description': None,\n",
      "                'display_name': 'CombinedSum',\n",
      "                'error': None,\n",
      "                'namespace': None,\n",
      "                'pipeline_id': 'b64d7ffe-54c4-49e6-ba66-051f98d75571'},\n",
      "               {'created_at': datetime.datetime(2024, 11, 21, 12, 30, 37, tzinfo=tzutc()),\n",
      "                'description': None,\n",
      "                'display_name': 'Combined2',\n",
      "                'error': None,\n",
      "                'namespace': None,\n",
      "                'pipeline_id': '8296209d-6eff-411a-8e9f-7719464f4146'},\n",
      "               {'created_at': datetime.datetime(2024, 11, 21, 13, 0, 57, tzinfo=tzutc()),\n",
      "                'description': None,\n",
      "                'display_name': 'combined3',\n",
      "                'error': None,\n",
      "                'namespace': None,\n",
      "                'pipeline_id': '430a2efe-f263-4d7c-bb4d-83588ca38545'},\n",
      "               {'created_at': datetime.datetime(2024, 11, 21, 14, 11, 35, tzinfo=tzutc()),\n",
      "                'description': None,\n",
      "                'display_name': 'comb4',\n",
      "                'error': None,\n",
      "                'namespace': None,\n",
      "                'pipeline_id': '1a1c669c-a3ab-40d6-8d3f-ec6bf006e75e'},\n",
      "               {'created_at': datetime.datetime(2024, 11, 21, 17, 47, 5, tzinfo=tzutc()),\n",
      "                'description': None,\n",
      "                'display_name': 'weather',\n",
      "                'error': None,\n",
      "                'namespace': None,\n",
      "                'pipeline_id': 'e6915c31-cb2f-403c-9852-806a40d7e0ec'},\n",
      "               {'created_at': datetime.datetime(2024, 11, 22, 9, 42, 3, tzinfo=tzutc()),\n",
      "                'description': 'A generic pipeline tutorial',\n",
      "                'display_name': 'hello-generic-world',\n",
      "                'error': None,\n",
      "                'namespace': None,\n",
      "                'pipeline_id': '40ea651d-4110-4b75-bf76-891be2eafe87'},\n",
      "               {'created_at': datetime.datetime(2024, 11, 22, 9, 44, 50, tzinfo=tzutc()),\n",
      "                'description': None,\n",
      "                'display_name': 'newpipe',\n",
      "                'error': None,\n",
      "                'namespace': None,\n",
      "                'pipeline_id': 'bef51c39-e7f8-4983-a309-4ea04de64cb7'}],\n",
      " 'total_size': 33}\n",
      "kubeflow-user-example-com\n"
     ]
    }
   ],
   "source": [
    "import requests\n",
    "import kfp\n",
    "\n",
    "#working HOST = 'http://10.100.59.230:31973'\n",
    "#NOT WORKING HOST = 'http://ml-pipeline.kubeflow.svc.cluster.local:8888'\n",
    "\n",
    "#WORKING\n",
    "HOST='http://hua-kubeflow.ddns.net/'\n",
    "USERNAME = \"user@example.com\"\n",
    "PASSWORD = \"2LZHseTdrLFFvx\"\n",
    "NAMESPACE = \"kubeflow-user-example-com\"\n",
    "\n",
    "session = requests.Session()\n",
    "response = session.get(HOST)\n",
    "\n",
    "headers = {\n",
    "    \"Content-Type\": \"application/x-www-form-urlencoded\",\n",
    "}\n",
    "\n",
    "data = {\"login\": USERNAME, \"password\": PASSWORD}\n",
    "session.post(response.url, headers=headers, data=data)\n",
    "session_cookie = session.cookies.get_dict()[\"authservice_session\"]\n",
    "\n",
    "client = kfp.Client(\n",
    "    host=f\"{HOST}/pipeline\",\n",
    "    cookies=f\"authservice_session={session_cookie}\",\n",
    "    namespace=NAMESPACE,\n",
    ")\n",
    "\n",
    "#print(session_cookie)\n",
    " \n",
    "\n",
    "# test that we have a valid session\n",
    "print(client.list_pipelines())\n",
    "print(client.get_user_namespace())\n",
    "\n",
    "\n",
    "#print(client.get_recurring_run(\"2fc815d5-6861-4241-b3d6-5bcdb5445b0b\"))"
   ]
  },
  {
   "cell_type": "code",
   "execution_count": 6,
   "id": "african-playback",
   "metadata": {},
   "outputs": [
    {
     "data": {
      "text/plain": [
       "{'multi_user': True}"
      ]
     },
     "execution_count": 6,
     "metadata": {},
     "output_type": "execute_result"
    }
   ],
   "source": [
    "client.get_kfp_healthz()"
   ]
  },
  {
   "cell_type": "code",
   "execution_count": null,
   "id": "e988dcb4-640f-4d65-b8c1-06f7e13bba87",
   "metadata": {},
   "outputs": [],
   "source": []
  }
 ],
 "metadata": {
  "kernelspec": {
   "display_name": "Python 3 (ipykernel)",
   "language": "python",
   "name": "python3"
  },
  "language_info": {
   "codemirror_mode": {
    "name": "ipython",
    "version": 3
   },
   "file_extension": ".py",
   "mimetype": "text/x-python",
   "name": "python",
   "nbconvert_exporter": "python",
   "pygments_lexer": "ipython3",
   "version": "3.11.7"
  }
 },
 "nbformat": 4,
 "nbformat_minor": 5
}
